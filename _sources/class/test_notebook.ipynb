{
  "cells": [
    {
      "cell_type": "markdown",
      "source": [
        "# Content with notebooks\n",
        "\n",
        "You can also create content with Jupyter Notebooks. This means that you can include\n",
        "code blocks and their outputs in your book."
      ],
      "metadata": {}
    },
    {
      "cell_type": "code",
      "source": [
        "for i in range(10):\n",
        "  print('The number is {0}'.format(i))"
      ],
      "outputs": [
        {
          "output_type": "stream",
          "name": "stdout",
          "text": [
            "The number is 0\n",
            "The number is 1\n",
            "The number is 2\n",
            "The number is 3\n",
            "The number is 4\n",
            "The number is 5\n",
            "The number is 6\n",
            "The number is 7\n",
            "The number is 8\n",
            "The number is 9\n"
          ]
        }
      ],
      "execution_count": 1,
      "metadata": {
        "execution": {
          "iopub.status.busy": "2020-09-01T00:37:44.558Z",
          "iopub.execute_input": "2020-09-01T00:37:44.562Z",
          "iopub.status.idle": "2020-09-01T00:37:44.570Z",
          "shell.execute_reply": "2020-09-01T00:37:44.573Z"
        }
      }
    },
    {
      "cell_type": "markdown",
      "source": [
        "## IFrame Test"
      ],
      "metadata": {}
    },
    {
      "cell_type": "markdown",
      "source": [
        "<div>\n",
        "<iframe src=\"https://cbc.ca\" width = \"1000px\" height = \"600px\"> </iframe>\n",
        "</div>"
      ],
      "metadata": {
        "nteract": {
          "transient": {
            "deleting": false
          }
        }
      }
    },
    {
      "cell_type": "code",
      "source": [],
      "outputs": [],
      "execution_count": null,
      "metadata": {
        "collapsed": true,
        "jupyter": {
          "source_hidden": false,
          "outputs_hidden": false
        },
        "nteract": {
          "transient": {
            "deleting": false
          }
        }
      }
    }
  ],
  "metadata": {
    "kernelspec": {
      "display_name": "Python 3",
      "language": "python",
      "name": "python3"
    },
    "language_info": {
      "name": "python",
      "version": "3.8.3",
      "mimetype": "text/x-python",
      "codemirror_mode": {
        "name": "ipython",
        "version": 3
      },
      "pygments_lexer": "ipython3",
      "nbconvert_exporter": "python",
      "file_extension": ".py"
    },
    "nteract": {
      "version": "0.24.1"
    },
    "widgets": {
      "application/vnd.jupyter.widget-state+json": {
        "state": {},
        "version_major": 2,
        "version_minor": 0
      }
    }
  },
  "nbformat": 4,
  "nbformat_minor": 4
}